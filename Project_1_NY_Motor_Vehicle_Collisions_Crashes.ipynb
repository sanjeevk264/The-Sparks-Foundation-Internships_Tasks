{
  "cells": [
    {
      "cell_type": "markdown",
      "metadata": {
        "id": "view-in-github",
        "colab_type": "text"
      },
      "source": [
        "<a href=\"https://colab.research.google.com/github/sanjeevk264/The-Sparks-Foundation-Internships_Tasks/blob/main/Project_1_NY_Motor_Vehicle_Collisions_Crashes.ipynb\" target=\"_parent\"><img src=\"https://colab.research.google.com/assets/colab-badge.svg\" alt=\"Open In Colab\"/></a>"
      ]
    },
    {
      "cell_type": "code",
      "execution_count": null,
      "id": "414f41a5-a5b3-46c8-8ac7-a4f2f129970b",
      "metadata": {
        "id": "414f41a5-a5b3-46c8-8ac7-a4f2f129970b"
      },
      "outputs": [],
      "source": [
        "NY Motor Vehicle Collisions - Crashes"
      ]
    },
    {
      "cell_type": "code",
      "execution_count": null,
      "id": "b103039a-673d-4432-a909-993a6e6bc7fc",
      "metadata": {
        "id": "b103039a-673d-4432-a909-993a6e6bc7fc"
      },
      "outputs": [],
      "source": [
        "import seaborn as sns\n",
        "import pandas as pd\n",
        "import numpy as np\n",
        "import statsmodels.api as sm\n",
        "import os"
      ]
    },
    {
      "cell_type": "code",
      "execution_count": null,
      "id": "911f63e5-9d2b-4b28-898c-d34fb98d725c",
      "metadata": {
        "id": "911f63e5-9d2b-4b28-898c-d34fb98d725c",
        "outputId": "c1dc7887-6597-417e-a0b6-7b5044565993"
      },
      "outputs": [
        {
          "data": {
            "text/html": [
              "<div>\n",
              "<style scoped>\n",
              "    .dataframe tbody tr th:only-of-type {\n",
              "        vertical-align: middle;\n",
              "    }\n",
              "\n",
              "    .dataframe tbody tr th {\n",
              "        vertical-align: top;\n",
              "    }\n",
              "\n",
              "    .dataframe thead th {\n",
              "        text-align: right;\n",
              "    }\n",
              "</style>\n",
              "<table border=\"1\" class=\"dataframe\">\n",
              "  <thead>\n",
              "    <tr style=\"text-align: right;\">\n",
              "      <th></th>\n",
              "      <th>CRASH DATE_CRASH TIME</th>\n",
              "      <th>BOROUGH</th>\n",
              "      <th>ZIP CODE</th>\n",
              "      <th>LATITUDE</th>\n",
              "      <th>LONGITUDE</th>\n",
              "      <th>LOCATION</th>\n",
              "      <th>ON STREET NAME</th>\n",
              "      <th>CROSS STREET NAME</th>\n",
              "      <th>OFF STREET NAME</th>\n",
              "      <th>NUMBER OF PERSONS INJURED</th>\n",
              "      <th>...</th>\n",
              "      <th>CONTRIBUTING FACTOR VEHICLE 2</th>\n",
              "      <th>CONTRIBUTING FACTOR VEHICLE 3</th>\n",
              "      <th>CONTRIBUTING FACTOR VEHICLE 4</th>\n",
              "      <th>CONTRIBUTING FACTOR VEHICLE 5</th>\n",
              "      <th>COLLISION_ID</th>\n",
              "      <th>VEHICLE TYPE CODE 1</th>\n",
              "      <th>VEHICLE TYPE CODE 2</th>\n",
              "      <th>VEHICLE TYPE CODE 3</th>\n",
              "      <th>VEHICLE TYPE CODE 4</th>\n",
              "      <th>VEHICLE TYPE CODE 5</th>\n",
              "    </tr>\n",
              "  </thead>\n",
              "  <tbody>\n",
              "    <tr>\n",
              "      <th>0</th>\n",
              "      <td>2021-09-11 02:39:00</td>\n",
              "      <td>NaN</td>\n",
              "      <td>NaN</td>\n",
              "      <td>NaN</td>\n",
              "      <td>NaN</td>\n",
              "      <td>NaN</td>\n",
              "      <td>WHITESTONE EXPRESSWAY</td>\n",
              "      <td>20 AVENUE</td>\n",
              "      <td>NaN</td>\n",
              "      <td>2.0</td>\n",
              "      <td>...</td>\n",
              "      <td>Unspecified</td>\n",
              "      <td>NaN</td>\n",
              "      <td>NaN</td>\n",
              "      <td>NaN</td>\n",
              "      <td>4455765</td>\n",
              "      <td>Sedan</td>\n",
              "      <td>Sedan</td>\n",
              "      <td>NaN</td>\n",
              "      <td>NaN</td>\n",
              "      <td>NaN</td>\n",
              "    </tr>\n",
              "    <tr>\n",
              "      <th>1</th>\n",
              "      <td>2022-03-26 11:45:00</td>\n",
              "      <td>NaN</td>\n",
              "      <td>NaN</td>\n",
              "      <td>NaN</td>\n",
              "      <td>NaN</td>\n",
              "      <td>NaN</td>\n",
              "      <td>QUEENSBORO BRIDGE UPPER</td>\n",
              "      <td>NaN</td>\n",
              "      <td>NaN</td>\n",
              "      <td>1.0</td>\n",
              "      <td>...</td>\n",
              "      <td>NaN</td>\n",
              "      <td>NaN</td>\n",
              "      <td>NaN</td>\n",
              "      <td>NaN</td>\n",
              "      <td>4513547</td>\n",
              "      <td>Sedan</td>\n",
              "      <td>NaN</td>\n",
              "      <td>NaN</td>\n",
              "      <td>NaN</td>\n",
              "      <td>NaN</td>\n",
              "    </tr>\n",
              "    <tr>\n",
              "      <th>2</th>\n",
              "      <td>2022-06-29 06:55:00</td>\n",
              "      <td>NaN</td>\n",
              "      <td>NaN</td>\n",
              "      <td>NaN</td>\n",
              "      <td>NaN</td>\n",
              "      <td>NaN</td>\n",
              "      <td>THROGS NECK BRIDGE</td>\n",
              "      <td>NaN</td>\n",
              "      <td>NaN</td>\n",
              "      <td>0.0</td>\n",
              "      <td>...</td>\n",
              "      <td>Unspecified</td>\n",
              "      <td>NaN</td>\n",
              "      <td>NaN</td>\n",
              "      <td>NaN</td>\n",
              "      <td>4541903</td>\n",
              "      <td>Sedan</td>\n",
              "      <td>Pick-up Truck</td>\n",
              "      <td>NaN</td>\n",
              "      <td>NaN</td>\n",
              "      <td>NaN</td>\n",
              "    </tr>\n",
              "    <tr>\n",
              "      <th>3</th>\n",
              "      <td>2021-09-11 09:35:00</td>\n",
              "      <td>BROOKLYN</td>\n",
              "      <td>11208.0</td>\n",
              "      <td>40.667202</td>\n",
              "      <td>-73.866500</td>\n",
              "      <td>(40.667202, -73.8665)</td>\n",
              "      <td>NaN</td>\n",
              "      <td>NaN</td>\n",
              "      <td>1211      LORING AVENUE</td>\n",
              "      <td>0.0</td>\n",
              "      <td>...</td>\n",
              "      <td>NaN</td>\n",
              "      <td>NaN</td>\n",
              "      <td>NaN</td>\n",
              "      <td>NaN</td>\n",
              "      <td>4456314</td>\n",
              "      <td>Sedan</td>\n",
              "      <td>NaN</td>\n",
              "      <td>NaN</td>\n",
              "      <td>NaN</td>\n",
              "      <td>NaN</td>\n",
              "    </tr>\n",
              "    <tr>\n",
              "      <th>4</th>\n",
              "      <td>2021-12-14 08:13:00</td>\n",
              "      <td>BROOKLYN</td>\n",
              "      <td>11233.0</td>\n",
              "      <td>40.683304</td>\n",
              "      <td>-73.917274</td>\n",
              "      <td>(40.683304, -73.917274)</td>\n",
              "      <td>SARATOGA AVENUE</td>\n",
              "      <td>DECATUR STREET</td>\n",
              "      <td>NaN</td>\n",
              "      <td>0.0</td>\n",
              "      <td>...</td>\n",
              "      <td>NaN</td>\n",
              "      <td>NaN</td>\n",
              "      <td>NaN</td>\n",
              "      <td>NaN</td>\n",
              "      <td>4486609</td>\n",
              "      <td>NaN</td>\n",
              "      <td>NaN</td>\n",
              "      <td>NaN</td>\n",
              "      <td>NaN</td>\n",
              "      <td>NaN</td>\n",
              "    </tr>\n",
              "    <tr>\n",
              "      <th>...</th>\n",
              "      <td>...</td>\n",
              "      <td>...</td>\n",
              "      <td>...</td>\n",
              "      <td>...</td>\n",
              "      <td>...</td>\n",
              "      <td>...</td>\n",
              "      <td>...</td>\n",
              "      <td>...</td>\n",
              "      <td>...</td>\n",
              "      <td>...</td>\n",
              "      <td>...</td>\n",
              "      <td>...</td>\n",
              "      <td>...</td>\n",
              "      <td>...</td>\n",
              "      <td>...</td>\n",
              "      <td>...</td>\n",
              "      <td>...</td>\n",
              "      <td>...</td>\n",
              "      <td>...</td>\n",
              "      <td>...</td>\n",
              "      <td>...</td>\n",
              "    </tr>\n",
              "    <tr>\n",
              "      <th>2018240</th>\n",
              "      <td>2023-07-03 18:05:00</td>\n",
              "      <td>NaN</td>\n",
              "      <td>NaN</td>\n",
              "      <td>40.866806</td>\n",
              "      <td>-73.931010</td>\n",
              "      <td>(40.866806, -73.93101)</td>\n",
              "      <td>RIVERSIDE DRIVE</td>\n",
              "      <td>NaN</td>\n",
              "      <td>NaN</td>\n",
              "      <td>0.0</td>\n",
              "      <td>...</td>\n",
              "      <td>Unspecified</td>\n",
              "      <td>NaN</td>\n",
              "      <td>NaN</td>\n",
              "      <td>NaN</td>\n",
              "      <td>4648110</td>\n",
              "      <td>Sedan</td>\n",
              "      <td>Sedan</td>\n",
              "      <td>NaN</td>\n",
              "      <td>NaN</td>\n",
              "      <td>NaN</td>\n",
              "    </tr>\n",
              "    <tr>\n",
              "      <th>2018241</th>\n",
              "      <td>2023-07-22 21:39:00</td>\n",
              "      <td>BRONX</td>\n",
              "      <td>10457.0</td>\n",
              "      <td>40.844177</td>\n",
              "      <td>-73.902920</td>\n",
              "      <td>(40.844177, -73.90292)</td>\n",
              "      <td>EAST 174 STREET</td>\n",
              "      <td>WEBSTER AVENUE</td>\n",
              "      <td>NaN</td>\n",
              "      <td>1.0</td>\n",
              "      <td>...</td>\n",
              "      <td>NaN</td>\n",
              "      <td>NaN</td>\n",
              "      <td>NaN</td>\n",
              "      <td>NaN</td>\n",
              "      <td>4648117</td>\n",
              "      <td>Sedan</td>\n",
              "      <td>NaN</td>\n",
              "      <td>NaN</td>\n",
              "      <td>NaN</td>\n",
              "      <td>NaN</td>\n",
              "    </tr>\n",
              "    <tr>\n",
              "      <th>2018242</th>\n",
              "      <td>2023-07-02 17:55:00</td>\n",
              "      <td>MANHATTAN</td>\n",
              "      <td>10006.0</td>\n",
              "      <td>40.711033</td>\n",
              "      <td>-74.014540</td>\n",
              "      <td>(40.711033, -74.01454)</td>\n",
              "      <td>WEST STREET</td>\n",
              "      <td>LIBERTY STREET</td>\n",
              "      <td>NaN</td>\n",
              "      <td>0.0</td>\n",
              "      <td>...</td>\n",
              "      <td>NaN</td>\n",
              "      <td>NaN</td>\n",
              "      <td>NaN</td>\n",
              "      <td>NaN</td>\n",
              "      <td>4648366</td>\n",
              "      <td>Taxi</td>\n",
              "      <td>NaN</td>\n",
              "      <td>NaN</td>\n",
              "      <td>NaN</td>\n",
              "      <td>NaN</td>\n",
              "    </tr>\n",
              "    <tr>\n",
              "      <th>2018243</th>\n",
              "      <td>2023-07-22 13:15:00</td>\n",
              "      <td>QUEENS</td>\n",
              "      <td>11433.0</td>\n",
              "      <td>40.691580</td>\n",
              "      <td>-73.793190</td>\n",
              "      <td>(40.69158, -73.79319)</td>\n",
              "      <td>110 AVENUE</td>\n",
              "      <td>157 STREET</td>\n",
              "      <td>NaN</td>\n",
              "      <td>1.0</td>\n",
              "      <td>...</td>\n",
              "      <td>Driver Inattention/Distraction</td>\n",
              "      <td>NaN</td>\n",
              "      <td>NaN</td>\n",
              "      <td>NaN</td>\n",
              "      <td>4648129</td>\n",
              "      <td>Station Wagon/Sport Utility Vehicle</td>\n",
              "      <td>E-Bike</td>\n",
              "      <td>NaN</td>\n",
              "      <td>NaN</td>\n",
              "      <td>NaN</td>\n",
              "    </tr>\n",
              "    <tr>\n",
              "      <th>2018244</th>\n",
              "      <td>2023-07-22 03:00:00</td>\n",
              "      <td>QUEENS</td>\n",
              "      <td>11433.0</td>\n",
              "      <td>40.700240</td>\n",
              "      <td>-73.792854</td>\n",
              "      <td>(40.70024, -73.792854)</td>\n",
              "      <td>SOUTH ROAD</td>\n",
              "      <td>164 STREET</td>\n",
              "      <td>NaN</td>\n",
              "      <td>0.0</td>\n",
              "      <td>...</td>\n",
              "      <td>NaN</td>\n",
              "      <td>NaN</td>\n",
              "      <td>NaN</td>\n",
              "      <td>NaN</td>\n",
              "      <td>4647913</td>\n",
              "      <td>Sedan</td>\n",
              "      <td>NaN</td>\n",
              "      <td>NaN</td>\n",
              "      <td>NaN</td>\n",
              "      <td>NaN</td>\n",
              "    </tr>\n",
              "  </tbody>\n",
              "</table>\n",
              "<p>2018245 rows × 28 columns</p>\n",
              "</div>"
            ],
            "text/plain": [
              "        CRASH DATE_CRASH TIME    BOROUGH ZIP CODE   LATITUDE  LONGITUDE  \\\n",
              "0         2021-09-11 02:39:00        NaN      NaN        NaN        NaN   \n",
              "1         2022-03-26 11:45:00        NaN      NaN        NaN        NaN   \n",
              "2         2022-06-29 06:55:00        NaN      NaN        NaN        NaN   \n",
              "3         2021-09-11 09:35:00   BROOKLYN  11208.0  40.667202 -73.866500   \n",
              "4         2021-12-14 08:13:00   BROOKLYN  11233.0  40.683304 -73.917274   \n",
              "...                       ...        ...      ...        ...        ...   \n",
              "2018240   2023-07-03 18:05:00        NaN      NaN  40.866806 -73.931010   \n",
              "2018241   2023-07-22 21:39:00      BRONX  10457.0  40.844177 -73.902920   \n",
              "2018242   2023-07-02 17:55:00  MANHATTAN  10006.0  40.711033 -74.014540   \n",
              "2018243   2023-07-22 13:15:00     QUEENS  11433.0  40.691580 -73.793190   \n",
              "2018244   2023-07-22 03:00:00     QUEENS  11433.0  40.700240 -73.792854   \n",
              "\n",
              "                        LOCATION           ON STREET NAME CROSS STREET NAME  \\\n",
              "0                            NaN    WHITESTONE EXPRESSWAY         20 AVENUE   \n",
              "1                            NaN  QUEENSBORO BRIDGE UPPER               NaN   \n",
              "2                            NaN       THROGS NECK BRIDGE               NaN   \n",
              "3          (40.667202, -73.8665)                      NaN               NaN   \n",
              "4        (40.683304, -73.917274)          SARATOGA AVENUE    DECATUR STREET   \n",
              "...                          ...                      ...               ...   \n",
              "2018240   (40.866806, -73.93101)          RIVERSIDE DRIVE               NaN   \n",
              "2018241   (40.844177, -73.90292)          EAST 174 STREET    WEBSTER AVENUE   \n",
              "2018242   (40.711033, -74.01454)              WEST STREET    LIBERTY STREET   \n",
              "2018243    (40.69158, -73.79319)               110 AVENUE        157 STREET   \n",
              "2018244   (40.70024, -73.792854)               SOUTH ROAD        164 STREET   \n",
              "\n",
              "                 OFF STREET NAME  NUMBER OF PERSONS INJURED  ...  \\\n",
              "0                            NaN                        2.0  ...   \n",
              "1                            NaN                        1.0  ...   \n",
              "2                            NaN                        0.0  ...   \n",
              "3        1211      LORING AVENUE                        0.0  ...   \n",
              "4                            NaN                        0.0  ...   \n",
              "...                          ...                        ...  ...   \n",
              "2018240                      NaN                        0.0  ...   \n",
              "2018241                      NaN                        1.0  ...   \n",
              "2018242                      NaN                        0.0  ...   \n",
              "2018243                      NaN                        1.0  ...   \n",
              "2018244                      NaN                        0.0  ...   \n",
              "\n",
              "          CONTRIBUTING FACTOR VEHICLE 2  CONTRIBUTING FACTOR VEHICLE 3  \\\n",
              "0                           Unspecified                            NaN   \n",
              "1                                   NaN                            NaN   \n",
              "2                           Unspecified                            NaN   \n",
              "3                                   NaN                            NaN   \n",
              "4                                   NaN                            NaN   \n",
              "...                                 ...                            ...   \n",
              "2018240                     Unspecified                            NaN   \n",
              "2018241                             NaN                            NaN   \n",
              "2018242                             NaN                            NaN   \n",
              "2018243  Driver Inattention/Distraction                            NaN   \n",
              "2018244                             NaN                            NaN   \n",
              "\n",
              "         CONTRIBUTING FACTOR VEHICLE 4  CONTRIBUTING FACTOR VEHICLE 5  \\\n",
              "0                                  NaN                            NaN   \n",
              "1                                  NaN                            NaN   \n",
              "2                                  NaN                            NaN   \n",
              "3                                  NaN                            NaN   \n",
              "4                                  NaN                            NaN   \n",
              "...                                ...                            ...   \n",
              "2018240                            NaN                            NaN   \n",
              "2018241                            NaN                            NaN   \n",
              "2018242                            NaN                            NaN   \n",
              "2018243                            NaN                            NaN   \n",
              "2018244                            NaN                            NaN   \n",
              "\n",
              "         COLLISION_ID                  VEHICLE TYPE CODE 1  \\\n",
              "0             4455765                                Sedan   \n",
              "1             4513547                                Sedan   \n",
              "2             4541903                                Sedan   \n",
              "3             4456314                                Sedan   \n",
              "4             4486609                                  NaN   \n",
              "...               ...                                  ...   \n",
              "2018240       4648110                                Sedan   \n",
              "2018241       4648117                                Sedan   \n",
              "2018242       4648366                                 Taxi   \n",
              "2018243       4648129  Station Wagon/Sport Utility Vehicle   \n",
              "2018244       4647913                                Sedan   \n",
              "\n",
              "         VEHICLE TYPE CODE 2 VEHICLE TYPE CODE 3 VEHICLE TYPE CODE 4  \\\n",
              "0                      Sedan                 NaN                 NaN   \n",
              "1                        NaN                 NaN                 NaN   \n",
              "2              Pick-up Truck                 NaN                 NaN   \n",
              "3                        NaN                 NaN                 NaN   \n",
              "4                        NaN                 NaN                 NaN   \n",
              "...                      ...                 ...                 ...   \n",
              "2018240                Sedan                 NaN                 NaN   \n",
              "2018241                  NaN                 NaN                 NaN   \n",
              "2018242                  NaN                 NaN                 NaN   \n",
              "2018243               E-Bike                 NaN                 NaN   \n",
              "2018244                  NaN                 NaN                 NaN   \n",
              "\n",
              "        VEHICLE TYPE CODE 5  \n",
              "0                       NaN  \n",
              "1                       NaN  \n",
              "2                       NaN  \n",
              "3                       NaN  \n",
              "4                       NaN  \n",
              "...                     ...  \n",
              "2018240                 NaN  \n",
              "2018241                 NaN  \n",
              "2018242                 NaN  \n",
              "2018243                 NaN  \n",
              "2018244                 NaN  \n",
              "\n",
              "[2018245 rows x 28 columns]"
            ]
          },
          "execution_count": 2,
          "metadata": {},
          "output_type": "execute_result"
        }
      ],
      "source": [
        "df = pd.read_pickle(r\"shared/Motor_Vehicle_Collisions_-_Crashes.pkl\")\n",
        "df"
      ]
    },
    {
      "cell_type": "markdown",
      "id": "e5ce9c1f-f456-422c-ab4c-b08bc3bc39b3",
      "metadata": {
        "id": "e5ce9c1f-f456-422c-ab4c-b08bc3bc39b3"
      },
      "source": [
        "Exploratory Data Analysis"
      ]
    },
    {
      "cell_type": "code",
      "execution_count": null,
      "id": "f88a9c87-41c3-4ed1-920f-f082ee0b641f",
      "metadata": {
        "id": "f88a9c87-41c3-4ed1-920f-f082ee0b641f",
        "outputId": "3780125c-4dc4-4b72-969d-360e543d0041"
      },
      "outputs": [
        {
          "name": "stdout",
          "output_type": "stream",
          "text": [
            "<class 'pandas.core.frame.DataFrame'>\n",
            "RangeIndex: 2018245 entries, 0 to 2018244\n",
            "Data columns (total 28 columns):\n",
            " #   Column                         Dtype         \n",
            "---  ------                         -----         \n",
            " 0   CRASH DATE_CRASH TIME          datetime64[ns]\n",
            " 1   BOROUGH                        object        \n",
            " 2   ZIP CODE                       object        \n",
            " 3   LATITUDE                       float64       \n",
            " 4   LONGITUDE                      float64       \n",
            " 5   LOCATION                       object        \n",
            " 6   ON STREET NAME                 object        \n",
            " 7   CROSS STREET NAME              object        \n",
            " 8   OFF STREET NAME                object        \n",
            " 9   NUMBER OF PERSONS INJURED      float64       \n",
            " 10  NUMBER OF PERSONS KILLED       float64       \n",
            " 11  NUMBER OF PEDESTRIANS INJURED  int64         \n",
            " 12  NUMBER OF PEDESTRIANS KILLED   int64         \n",
            " 13  NUMBER OF CYCLIST INJURED      int64         \n",
            " 14  NUMBER OF CYCLIST KILLED       int64         \n",
            " 15  NUMBER OF MOTORIST INJURED     int64         \n",
            " 16  NUMBER OF MOTORIST KILLED      int64         \n",
            " 17  CONTRIBUTING FACTOR VEHICLE 1  object        \n",
            " 18  CONTRIBUTING FACTOR VEHICLE 2  object        \n",
            " 19  CONTRIBUTING FACTOR VEHICLE 3  object        \n",
            " 20  CONTRIBUTING FACTOR VEHICLE 4  object        \n",
            " 21  CONTRIBUTING FACTOR VEHICLE 5  object        \n",
            " 22  COLLISION_ID                   int64         \n",
            " 23  VEHICLE TYPE CODE 1            object        \n",
            " 24  VEHICLE TYPE CODE 2            object        \n",
            " 25  VEHICLE TYPE CODE 3            object        \n",
            " 26  VEHICLE TYPE CODE 4            object        \n",
            " 27  VEHICLE TYPE CODE 5            object        \n",
            "dtypes: datetime64[ns](1), float64(4), int64(7), object(16)\n",
            "memory usage: 431.1+ MB\n"
          ]
        }
      ],
      "source": [
        "df.info()"
      ]
    },
    {
      "cell_type": "code",
      "execution_count": null,
      "id": "da84d629-6b09-49c8-89d7-d07e08bedee5",
      "metadata": {
        "id": "da84d629-6b09-49c8-89d7-d07e08bedee5",
        "outputId": "70c84ffc-449f-4429-cba9-9ff0427a4868"
      },
      "outputs": [
        {
          "data": {
            "text/html": [
              "<div>\n",
              "<style scoped>\n",
              "    .dataframe tbody tr th:only-of-type {\n",
              "        vertical-align: middle;\n",
              "    }\n",
              "\n",
              "    .dataframe tbody tr th {\n",
              "        vertical-align: top;\n",
              "    }\n",
              "\n",
              "    .dataframe thead th {\n",
              "        text-align: right;\n",
              "    }\n",
              "</style>\n",
              "<table border=\"1\" class=\"dataframe\">\n",
              "  <thead>\n",
              "    <tr style=\"text-align: right;\">\n",
              "      <th></th>\n",
              "      <th>CRASH DATE_CRASH TIME</th>\n",
              "      <th>LATITUDE</th>\n",
              "      <th>LONGITUDE</th>\n",
              "      <th>NUMBER OF PERSONS INJURED</th>\n",
              "      <th>NUMBER OF PERSONS KILLED</th>\n",
              "      <th>NUMBER OF PEDESTRIANS INJURED</th>\n",
              "      <th>NUMBER OF PEDESTRIANS KILLED</th>\n",
              "      <th>NUMBER OF CYCLIST INJURED</th>\n",
              "      <th>NUMBER OF CYCLIST KILLED</th>\n",
              "      <th>NUMBER OF MOTORIST INJURED</th>\n",
              "      <th>NUMBER OF MOTORIST KILLED</th>\n",
              "      <th>COLLISION_ID</th>\n",
              "    </tr>\n",
              "  </thead>\n",
              "  <tbody>\n",
              "    <tr>\n",
              "      <th>count</th>\n",
              "      <td>2018245</td>\n",
              "      <td>1.788560e+06</td>\n",
              "      <td>1.788560e+06</td>\n",
              "      <td>2.018227e+06</td>\n",
              "      <td>2.018214e+06</td>\n",
              "      <td>2.018245e+06</td>\n",
              "      <td>2.018245e+06</td>\n",
              "      <td>2.018245e+06</td>\n",
              "      <td>2.018245e+06</td>\n",
              "      <td>2.018245e+06</td>\n",
              "      <td>2.018245e+06</td>\n",
              "      <td>2.018245e+06</td>\n",
              "    </tr>\n",
              "    <tr>\n",
              "      <th>mean</th>\n",
              "      <td>2017-05-14 17:39:03.899198976</td>\n",
              "      <td>4.062776e+01</td>\n",
              "      <td>-7.375228e+01</td>\n",
              "      <td>3.024249e-01</td>\n",
              "      <td>1.446328e-03</td>\n",
              "      <td>5.518507e-02</td>\n",
              "      <td>7.253827e-04</td>\n",
              "      <td>2.612468e-02</td>\n",
              "      <td>1.119785e-04</td>\n",
              "      <td>2.179889e-01</td>\n",
              "      <td>5.896212e-04</td>\n",
              "      <td>3.116455e+06</td>\n",
              "    </tr>\n",
              "    <tr>\n",
              "      <th>min</th>\n",
              "      <td>2012-07-01 00:05:00</td>\n",
              "      <td>0.000000e+00</td>\n",
              "      <td>-2.013600e+02</td>\n",
              "      <td>0.000000e+00</td>\n",
              "      <td>0.000000e+00</td>\n",
              "      <td>0.000000e+00</td>\n",
              "      <td>0.000000e+00</td>\n",
              "      <td>0.000000e+00</td>\n",
              "      <td>0.000000e+00</td>\n",
              "      <td>0.000000e+00</td>\n",
              "      <td>0.000000e+00</td>\n",
              "      <td>2.200000e+01</td>\n",
              "    </tr>\n",
              "    <tr>\n",
              "      <th>25%</th>\n",
              "      <td>2014-12-19 18:00:00</td>\n",
              "      <td>4.066792e+01</td>\n",
              "      <td>-7.397493e+01</td>\n",
              "      <td>0.000000e+00</td>\n",
              "      <td>0.000000e+00</td>\n",
              "      <td>0.000000e+00</td>\n",
              "      <td>0.000000e+00</td>\n",
              "      <td>0.000000e+00</td>\n",
              "      <td>0.000000e+00</td>\n",
              "      <td>0.000000e+00</td>\n",
              "      <td>0.000000e+00</td>\n",
              "      <td>3.140681e+06</td>\n",
              "    </tr>\n",
              "    <tr>\n",
              "      <th>50%</th>\n",
              "      <td>2017-03-29 21:15:00</td>\n",
              "      <td>4.072102e+01</td>\n",
              "      <td>-7.392732e+01</td>\n",
              "      <td>0.000000e+00</td>\n",
              "      <td>0.000000e+00</td>\n",
              "      <td>0.000000e+00</td>\n",
              "      <td>0.000000e+00</td>\n",
              "      <td>0.000000e+00</td>\n",
              "      <td>0.000000e+00</td>\n",
              "      <td>0.000000e+00</td>\n",
              "      <td>0.000000e+00</td>\n",
              "      <td>3.645346e+06</td>\n",
              "    </tr>\n",
              "    <tr>\n",
              "      <th>75%</th>\n",
              "      <td>2019-06-10 18:30:00</td>\n",
              "      <td>4.076956e+01</td>\n",
              "      <td>-7.386665e+01</td>\n",
              "      <td>0.000000e+00</td>\n",
              "      <td>0.000000e+00</td>\n",
              "      <td>0.000000e+00</td>\n",
              "      <td>0.000000e+00</td>\n",
              "      <td>0.000000e+00</td>\n",
              "      <td>0.000000e+00</td>\n",
              "      <td>0.000000e+00</td>\n",
              "      <td>0.000000e+00</td>\n",
              "      <td>4.150156e+06</td>\n",
              "    </tr>\n",
              "    <tr>\n",
              "      <th>max</th>\n",
              "      <td>2023-08-15 23:59:00</td>\n",
              "      <td>4.334444e+01</td>\n",
              "      <td>0.000000e+00</td>\n",
              "      <td>4.300000e+01</td>\n",
              "      <td>8.000000e+00</td>\n",
              "      <td>2.700000e+01</td>\n",
              "      <td>6.000000e+00</td>\n",
              "      <td>4.000000e+00</td>\n",
              "      <td>2.000000e+00</td>\n",
              "      <td>4.300000e+01</td>\n",
              "      <td>5.000000e+00</td>\n",
              "      <td>4.655026e+06</td>\n",
              "    </tr>\n",
              "    <tr>\n",
              "      <th>std</th>\n",
              "      <td>NaN</td>\n",
              "      <td>1.980901e+00</td>\n",
              "      <td>3.727568e+00</td>\n",
              "      <td>6.937633e-01</td>\n",
              "      <td>4.007201e-02</td>\n",
              "      <td>2.412867e-01</td>\n",
              "      <td>2.741556e-02</td>\n",
              "      <td>1.614267e-01</td>\n",
              "      <td>1.062812e-02</td>\n",
              "      <td>6.549700e-01</td>\n",
              "      <td>2.648117e-02</td>\n",
              "      <td>1.503997e+06</td>\n",
              "    </tr>\n",
              "  </tbody>\n",
              "</table>\n",
              "</div>"
            ],
            "text/plain": [
              "               CRASH DATE_CRASH TIME      LATITUDE     LONGITUDE  \\\n",
              "count                        2018245  1.788560e+06  1.788560e+06   \n",
              "mean   2017-05-14 17:39:03.899198976  4.062776e+01 -7.375228e+01   \n",
              "min              2012-07-01 00:05:00  0.000000e+00 -2.013600e+02   \n",
              "25%              2014-12-19 18:00:00  4.066792e+01 -7.397493e+01   \n",
              "50%              2017-03-29 21:15:00  4.072102e+01 -7.392732e+01   \n",
              "75%              2019-06-10 18:30:00  4.076956e+01 -7.386665e+01   \n",
              "max              2023-08-15 23:59:00  4.334444e+01  0.000000e+00   \n",
              "std                              NaN  1.980901e+00  3.727568e+00   \n",
              "\n",
              "       NUMBER OF PERSONS INJURED  NUMBER OF PERSONS KILLED  \\\n",
              "count               2.018227e+06              2.018214e+06   \n",
              "mean                3.024249e-01              1.446328e-03   \n",
              "min                 0.000000e+00              0.000000e+00   \n",
              "25%                 0.000000e+00              0.000000e+00   \n",
              "50%                 0.000000e+00              0.000000e+00   \n",
              "75%                 0.000000e+00              0.000000e+00   \n",
              "max                 4.300000e+01              8.000000e+00   \n",
              "std                 6.937633e-01              4.007201e-02   \n",
              "\n",
              "       NUMBER OF PEDESTRIANS INJURED  NUMBER OF PEDESTRIANS KILLED  \\\n",
              "count                   2.018245e+06                  2.018245e+06   \n",
              "mean                    5.518507e-02                  7.253827e-04   \n",
              "min                     0.000000e+00                  0.000000e+00   \n",
              "25%                     0.000000e+00                  0.000000e+00   \n",
              "50%                     0.000000e+00                  0.000000e+00   \n",
              "75%                     0.000000e+00                  0.000000e+00   \n",
              "max                     2.700000e+01                  6.000000e+00   \n",
              "std                     2.412867e-01                  2.741556e-02   \n",
              "\n",
              "       NUMBER OF CYCLIST INJURED  NUMBER OF CYCLIST KILLED  \\\n",
              "count               2.018245e+06              2.018245e+06   \n",
              "mean                2.612468e-02              1.119785e-04   \n",
              "min                 0.000000e+00              0.000000e+00   \n",
              "25%                 0.000000e+00              0.000000e+00   \n",
              "50%                 0.000000e+00              0.000000e+00   \n",
              "75%                 0.000000e+00              0.000000e+00   \n",
              "max                 4.000000e+00              2.000000e+00   \n",
              "std                 1.614267e-01              1.062812e-02   \n",
              "\n",
              "       NUMBER OF MOTORIST INJURED  NUMBER OF MOTORIST KILLED  COLLISION_ID  \n",
              "count                2.018245e+06               2.018245e+06  2.018245e+06  \n",
              "mean                 2.179889e-01               5.896212e-04  3.116455e+06  \n",
              "min                  0.000000e+00               0.000000e+00  2.200000e+01  \n",
              "25%                  0.000000e+00               0.000000e+00  3.140681e+06  \n",
              "50%                  0.000000e+00               0.000000e+00  3.645346e+06  \n",
              "75%                  0.000000e+00               0.000000e+00  4.150156e+06  \n",
              "max                  4.300000e+01               5.000000e+00  4.655026e+06  \n",
              "std                  6.549700e-01               2.648117e-02  1.503997e+06  "
            ]
          },
          "execution_count": 4,
          "metadata": {},
          "output_type": "execute_result"
        }
      ],
      "source": [
        "df.describe()"
      ]
    },
    {
      "cell_type": "code",
      "execution_count": null,
      "id": "40594ba6-c36e-4c0a-9138-ba467f7043e1",
      "metadata": {
        "id": "40594ba6-c36e-4c0a-9138-ba467f7043e1",
        "outputId": "71838da3-d075-4683-e4ee-a2def7783149"
      },
      "outputs": [
        {
          "data": {
            "text/plain": [
              "Index(['CRASH DATE_CRASH TIME', 'BOROUGH', 'ZIP CODE', 'LATITUDE', 'LONGITUDE',\n",
              "       'LOCATION', 'ON STREET NAME', 'CROSS STREET NAME', 'OFF STREET NAME',\n",
              "       'NUMBER OF PERSONS INJURED', 'NUMBER OF PERSONS KILLED',\n",
              "       'NUMBER OF PEDESTRIANS INJURED', 'NUMBER OF PEDESTRIANS KILLED',\n",
              "       'NUMBER OF CYCLIST INJURED', 'NUMBER OF CYCLIST KILLED',\n",
              "       'NUMBER OF MOTORIST INJURED', 'NUMBER OF MOTORIST KILLED',\n",
              "       'CONTRIBUTING FACTOR VEHICLE 1', 'CONTRIBUTING FACTOR VEHICLE 2',\n",
              "       'CONTRIBUTING FACTOR VEHICLE 3', 'CONTRIBUTING FACTOR VEHICLE 4',\n",
              "       'CONTRIBUTING FACTOR VEHICLE 5', 'COLLISION_ID', 'VEHICLE TYPE CODE 1',\n",
              "       'VEHICLE TYPE CODE 2', 'VEHICLE TYPE CODE 3', 'VEHICLE TYPE CODE 4',\n",
              "       'VEHICLE TYPE CODE 5'],\n",
              "      dtype='object')"
            ]
          },
          "execution_count": 5,
          "metadata": {},
          "output_type": "execute_result"
        }
      ],
      "source": [
        "df.columns"
      ]
    },
    {
      "cell_type": "markdown",
      "id": "d9b28b18-ce97-44da-bae2-527d06a2f361",
      "metadata": {
        "id": "d9b28b18-ce97-44da-bae2-527d06a2f361"
      },
      "source": [
        "#1 Second highest total number of crashes reported since 2012"
      ]
    },
    {
      "cell_type": "code",
      "execution_count": null,
      "id": "ba71856f-bef8-4e67-a3c2-583395b654d2",
      "metadata": {
        "id": "ba71856f-bef8-4e67-a3c2-583395b654d2"
      },
      "outputs": [],
      "source": [
        "df['CRASH DATE_CRASH TIME'] = pd.to_datetime(df['CRASH DATE_CRASH TIME'])\n",
        "df_date = df[df['CRASH DATE_CRASH TIME'].dt.year >= 2012]"
      ]
    },
    {
      "cell_type": "code",
      "execution_count": null,
      "id": "160fb9eb-8964-4b8c-8ef0-2874b5bf65d7",
      "metadata": {
        "id": "160fb9eb-8964-4b8c-8ef0-2874b5bf65d7",
        "outputId": "92d35f89-649d-4dd7-f9b4-b285494b4362"
      },
      "outputs": [
        {
          "data": {
            "text/plain": [
              "BOROUGH\n",
              "BROOKLYN         441026\n",
              "QUEENS           372457\n",
              "MANHATTAN        313266\n",
              "BRONX            205345\n",
              "STATEN ISLAND     58297\n",
              "Name: count, dtype: int64"
            ]
          },
          "execution_count": 7,
          "metadata": {},
          "output_type": "execute_result"
        }
      ],
      "source": [
        "borough_crash_counts = df['BOROUGH'].value_counts()\n",
        "borough_crash_counts"
      ]
    },
    {
      "cell_type": "markdown",
      "id": "7785b7b0-eb96-441d-9d54-f554eb8930b3",
      "metadata": {
        "id": "7785b7b0-eb96-441d-9d54-f554eb8930b3"
      },
      "source": [
        "#2 Most crashes for every 100,000 people"
      ]
    },
    {
      "cell_type": "code",
      "execution_count": null,
      "id": "59a58620-a51b-4f3c-bb85-ccc605a49ffa",
      "metadata": {
        "id": "59a58620-a51b-4f3c-bb85-ccc605a49ffa"
      },
      "outputs": [],
      "source": [
        "Bronx_population=1446788\n",
        "Brooklyn_population=2648452\n",
        "Manhattan_population= 1638281\n",
        "Queens_population=2330295\n",
        "Statenisland_population=487155"
      ]
    },
    {
      "cell_type": "code",
      "execution_count": null,
      "id": "3aa6fba2-cc3b-4fa9-a7c0-c6c748617c8a",
      "metadata": {
        "id": "3aa6fba2-cc3b-4fa9-a7c0-c6c748617c8a"
      },
      "outputs": [],
      "source": [
        "Bronx_df = borough_crash_counts['BRONX']\n",
        "Brooklyn_df=borough_crash_counts['BROOKLYN']\n",
        "Manhattan_df=borough_crash_counts['MANHATTAN']\n",
        "Queens_df=borough_crash_counts['QUEENS']\n",
        "Statenisland_df=borough_crash_counts['STATEN ISLAND']"
      ]
    },
    {
      "cell_type": "code",
      "execution_count": null,
      "id": "788d1de7-2182-48d3-b61d-b2849ed2df62",
      "metadata": {
        "id": "788d1de7-2182-48d3-b61d-b2849ed2df62"
      },
      "outputs": [],
      "source": [
        "Bronx_crash=Bronx_df/Bronx_population*100000\n",
        "Brooklyn_crash=Brooklyn_df/Brooklyn_population*100000\n",
        "Manhattan_crash=Manhattan_df/Manhattan_population*100000\n",
        "Queens_crash=Queens_df/Queens_population*100000\n",
        "Statenisland_crash=Statenisland_df/Statenisland_population*100000"
      ]
    },
    {
      "cell_type": "code",
      "execution_count": null,
      "id": "61c0779a-045d-4ee2-a0a3-bddea65d44e1",
      "metadata": {
        "id": "61c0779a-045d-4ee2-a0a3-bddea65d44e1",
        "outputId": "14baa0a2-cc20-4a9a-9098-b46a60100c94"
      },
      "outputs": [
        {
          "data": {
            "text/plain": [
              "(14193.164444272415,\n",
              " 16652.2179748774,\n",
              " 19121.628096767283,\n",
              " 15983.255338916317,\n",
              " 11966.827806345003)"
            ]
          },
          "execution_count": 11,
          "metadata": {},
          "output_type": "execute_result"
        }
      ],
      "source": [
        "Bronx_crash,Brooklyn_crash,Manhattan_crash,Queens_crash,Statenisland_crash"
      ]
    },
    {
      "cell_type": "markdown",
      "id": "266dff16-05f7-4aa8-b64e-81025a323c28",
      "metadata": {
        "id": "266dff16-05f7-4aa8-b64e-81025a323c28"
      },
      "source": [
        "#3 'CONTRIBUTING FACTOR VEHICLE 1'"
      ]
    },
    {
      "cell_type": "code",
      "execution_count": null,
      "id": "cf79d46d-ffcd-4ebf-a3be-cfc0fbedf2f6",
      "metadata": {
        "id": "cf79d46d-ffcd-4ebf-a3be-cfc0fbedf2f6",
        "outputId": "c9dce9f5-7208-46ea-f6ef-75c31a85dc0f"
      },
      "outputs": [
        {
          "data": {
            "text/plain": [
              "CONTRIBUTING FACTOR VEHICLE 1\n",
              "Unspecified                       692736\n",
              "Driver Inattention/Distraction    401262\n",
              "Failure to Yield Right-of-Way     119166\n",
              "Following Too Closely             107467\n",
              "Backing Unsafely                   75042\n",
              "                                   ...  \n",
              "Cell Phone (hand-held)                79\n",
              "Windshield Inadequate                 77\n",
              "Texting                               50\n",
              "Listening/Using Headphones            24\n",
              "1                                     10\n",
              "Name: count, Length: 61, dtype: int64"
            ]
          },
          "execution_count": 12,
          "metadata": {},
          "output_type": "execute_result"
        }
      ],
      "source": [
        "df['CONTRIBUTING FACTOR VEHICLE 1'].value_counts()"
      ]
    },
    {
      "cell_type": "code",
      "execution_count": null,
      "id": "bf86e572-e8d9-462a-8b2e-844ae7cf3da1",
      "metadata": {
        "id": "bf86e572-e8d9-462a-8b2e-844ae7cf3da1",
        "outputId": "cf4192b4-cb51-4696-e2f5-361111b6167f"
      },
      "outputs": [
        {
          "data": {
            "text/plain": [
              "CONTRIBUTING FACTOR VEHICLE 1\n",
              "Driver Inattention/Distraction                           0.304180\n",
              "Failure to Yield Right-of-Way                            0.090335\n",
              "Following Too Closely                                    0.081466\n",
              "Backing Unsafely                                         0.056886\n",
              "Other Vehicular                                          0.047521\n",
              "Passing or Lane Usage Improper                           0.042031\n",
              "Turning Improperly                                       0.037833\n",
              "Passing Too Closely                                      0.037788\n",
              "Fatigued/Drowsy                                          0.035889\n",
              "Unsafe Lane Changing                                     0.030103\n",
              "Traffic Control Disregarded                              0.026691\n",
              "Driver Inexperience                                      0.023707\n",
              "Unsafe Speed                                             0.020403\n",
              "Alcohol Involvement                                      0.016416\n",
              "Lost Consciousness                                       0.015445\n",
              "Reaction to Uninvolved Vehicle                           0.014784\n",
              "Pavement Slippery                                        0.014606\n",
              "Prescription Medication                                  0.011679\n",
              "View Obstructed/Limited                                  0.010018\n",
              "Outside Car Distraction                                  0.009595\n",
              "Oversized Vehicle                                        0.009364\n",
              "Physical Disability                                      0.007082\n",
              "Aggressive Driving/Road Rage                             0.007022\n",
              "Pedestrian/Bicyclist/Other Pedestrian Error/Confusion    0.006910\n",
              "Passenger Distraction                                    0.006008\n",
              "Brakes Defective                                         0.005110\n",
              "Fell Asleep                                              0.004138\n",
              "Obstruction/Debris                                       0.003141\n",
              "Glare                                                    0.003049\n",
              "Failure to Keep Right                                    0.002455\n",
              "Steering Failure                                         0.002116\n",
              "Tire Failure/Inadequate                                  0.001860\n",
              "Pavement Defective                                       0.001820\n",
              "Other Electronic Device                                  0.001767\n",
              "Illness                                                  0.001636\n",
              "Illnes                                                   0.001201\n",
              "Animals Action                                           0.001151\n",
              "Reaction to Other Uninvolved Vehicle                     0.001014\n",
              "Driverless/Runaway Vehicle                               0.000916\n",
              "Accelerator Defective                                    0.000804\n",
              "Lane Marking Improper/Inadequate                         0.000735\n",
              "Traffic Control Device Improper/Non-Working              0.000642\n",
              "Drugs (illegal)                                          0.000635\n",
              "Cell Phone (hand-Held)                                   0.000381\n",
              "Drugs (Illegal)                                          0.000318\n",
              "Cell Phone (hands-free)                                  0.000204\n",
              "Tow Hitch Defective                                      0.000161\n",
              "Other Lighting Defects                                   0.000139\n",
              "Tinted Windows                                           0.000123\n",
              "Using On Board Navigation Device                         0.000112\n",
              "Vehicle Vandalism                                        0.000099\n",
              "Headlights Defective                                     0.000099\n",
              "Eating or Drinking                                       0.000088\n",
              "80                                                       0.000077\n",
              "Shoulders Defective/Improper                             0.000067\n",
              "Cell Phone (hand-held)                                   0.000060\n",
              "Windshield Inadequate                                    0.000058\n",
              "Texting                                                  0.000038\n",
              "Listening/Using Headphones                               0.000018\n",
              "1                                                        0.000008\n",
              "Name: proportion, dtype: float64"
            ]
          },
          "execution_count": 31,
          "metadata": {},
          "output_type": "execute_result"
        }
      ],
      "source": [
        "unspecified_drop=df[df['CONTRIBUTING FACTOR VEHICLE 1']=='Unspecified'].index\n",
        "df_drop=df.drop(unspecified_drop)\n",
        "df_drop['CONTRIBUTING FACTOR VEHICLE 1'].value_counts(normalize=True)"
      ]
    },
    {
      "cell_type": "markdown",
      "id": "f4917758-4d19-4c8f-94db-74d63b9c9852",
      "metadata": {
        "id": "f4917758-4d19-4c8f-94db-74d63b9c9852"
      },
      "source": [
        "#4 The top 5 causes of crashes (ignoring 'Unspecified')"
      ]
    },
    {
      "cell_type": "code",
      "execution_count": null,
      "id": "0bfed6aa-6ca4-45f4-a001-246efcf293b0",
      "metadata": {
        "id": "0bfed6aa-6ca4-45f4-a001-246efcf293b0",
        "outputId": "67beca34-bbfb-444b-cc12-e6f93f3c0321"
      },
      "outputs": [
        {
          "data": {
            "text/plain": [
              "CONTRIBUTING FACTOR VEHICLE 1\n",
              "Driver Inattention/Distraction                           0.304180\n",
              "Failure to Yield Right-of-Way                            0.394514\n",
              "Following Too Closely                                    0.475981\n",
              "Backing Unsafely                                         0.532867\n",
              "Other Vehicular                                          0.580388\n",
              "Passing or Lane Usage Improper                           0.622418\n",
              "Turning Improperly                                       0.660251\n",
              "Passing Too Closely                                      0.698039\n",
              "Fatigued/Drowsy                                          0.733928\n",
              "Unsafe Lane Changing                                     0.764031\n",
              "Traffic Control Disregarded                              0.790722\n",
              "Driver Inexperience                                      0.814430\n",
              "Unsafe Speed                                             0.834833\n",
              "Alcohol Involvement                                      0.851249\n",
              "Lost Consciousness                                       0.866694\n",
              "Reaction to Uninvolved Vehicle                           0.881478\n",
              "Pavement Slippery                                        0.896084\n",
              "Prescription Medication                                  0.907763\n",
              "View Obstructed/Limited                                  0.917781\n",
              "Outside Car Distraction                                  0.927376\n",
              "Oversized Vehicle                                        0.936739\n",
              "Physical Disability                                      0.943821\n",
              "Aggressive Driving/Road Rage                             0.950843\n",
              "Pedestrian/Bicyclist/Other Pedestrian Error/Confusion    0.957753\n",
              "Passenger Distraction                                    0.963761\n",
              "Brakes Defective                                         0.968871\n",
              "Fell Asleep                                              0.973009\n",
              "Obstruction/Debris                                       0.976150\n",
              "Glare                                                    0.979199\n",
              "Failure to Keep Right                                    0.981654\n",
              "Steering Failure                                         0.983770\n",
              "Tire Failure/Inadequate                                  0.985630\n",
              "Pavement Defective                                       0.987450\n",
              "Other Electronic Device                                  0.989217\n",
              "Illness                                                  0.990853\n",
              "Illnes                                                   0.992053\n",
              "Animals Action                                           0.993204\n",
              "Reaction to Other Uninvolved Vehicle                     0.994218\n",
              "Driverless/Runaway Vehicle                               0.995134\n",
              "Accelerator Defective                                    0.995938\n",
              "Lane Marking Improper/Inadequate                         0.996673\n",
              "Traffic Control Device Improper/Non-Working              0.997315\n",
              "Drugs (illegal)                                          0.997950\n",
              "Cell Phone (hand-Held)                                   0.998332\n",
              "Drugs (Illegal)                                          0.998649\n",
              "Cell Phone (hands-free)                                  0.998853\n",
              "Tow Hitch Defective                                      0.999015\n",
              "Other Lighting Defects                                   0.999154\n",
              "Tinted Windows                                           0.999277\n",
              "Using On Board Navigation Device                         0.999389\n",
              "Vehicle Vandalism                                        0.999488\n",
              "Headlights Defective                                     0.999587\n",
              "Eating or Drinking                                       0.999675\n",
              "80                                                       0.999751\n",
              "Shoulders Defective/Improper                             0.999818\n",
              "Cell Phone (hand-held)                                   0.999878\n",
              "Windshield Inadequate                                    0.999936\n",
              "Texting                                                  0.999974\n",
              "Listening/Using Headphones                               0.999992\n",
              "1                                                        1.000000\n",
              "Name: proportion, dtype: float64"
            ]
          },
          "execution_count": 32,
          "metadata": {},
          "output_type": "execute_result"
        }
      ],
      "source": [
        "df_drop['CONTRIBUTING FACTOR VEHICLE 1'].value_counts(normalize=True).cumsum()"
      ]
    },
    {
      "cell_type": "markdown",
      "id": "f78cd64a-2593-4c83-9636-ec3a50b288f4",
      "metadata": {
        "id": "f78cd64a-2593-4c83-9636-ec3a50b288f4"
      },
      "source": [
        "#5 Total count of accidents that involved two or more fatalities"
      ]
    },
    {
      "cell_type": "code",
      "execution_count": null,
      "id": "6334e984-e9cc-4c45-b356-6e18008e841e",
      "metadata": {
        "id": "6334e984-e9cc-4c45-b356-6e18008e841e"
      },
      "outputs": [],
      "source": [
        "df['NUMBER OF PERSONS KILLED'] = df['NUMBER OF PERSONS KILLED'].fillna(0)"
      ]
    },
    {
      "cell_type": "code",
      "execution_count": null,
      "id": "f54400b1-29a7-4dd9-8999-78d7a025c55a",
      "metadata": {
        "id": "f54400b1-29a7-4dd9-8999-78d7a025c55a"
      },
      "outputs": [],
      "source": [
        "accidents_with_two_or_more_fatalities = df[df['NUMBER OF PERSONS KILLED'] >= 2]"
      ]
    },
    {
      "cell_type": "code",
      "execution_count": null,
      "id": "623d04b9-a70f-4079-8618-958694ff8dc2",
      "metadata": {
        "id": "623d04b9-a70f-4079-8618-958694ff8dc2",
        "outputId": "a4438261-2d83-4e4c-a114-ecf128349c8a"
      },
      "outputs": [
        {
          "data": {
            "text/plain": [
              "88"
            ]
          },
          "execution_count": 35,
          "metadata": {},
          "output_type": "execute_result"
        }
      ],
      "source": [
        "total_accidents_count = len(accidents_with_two_or_more_fatalities)\n",
        "total_accidents_count"
      ]
    },
    {
      "cell_type": "markdown",
      "id": "bb7deb88-62ed-4208-94e0-034ab7354f7a",
      "metadata": {
        "id": "bb7deb88-62ed-4208-94e0-034ab7354f7a"
      },
      "source": [
        "#6 At least one person dead On average, for every 1000 accidents"
      ]
    },
    {
      "cell_type": "code",
      "execution_count": null,
      "id": "b3647f77-925a-4bd9-9a1b-483ffaa5d157",
      "metadata": {
        "id": "b3647f77-925a-4bd9-9a1b-483ffaa5d157"
      },
      "outputs": [],
      "source": [
        "accidents_with_deaths = df[df['NUMBER OF PERSONS KILLED'] >= 1]"
      ]
    },
    {
      "cell_type": "code",
      "execution_count": null,
      "id": "68792aea-3ec3-448c-8cc4-de0861545cf4",
      "metadata": {
        "id": "68792aea-3ec3-448c-8cc4-de0861545cf4"
      },
      "outputs": [],
      "source": [
        "total_accidents_with_deaths = accidents_with_deaths.shape[0]\n",
        "total_accidents = df.shape[0]"
      ]
    },
    {
      "cell_type": "code",
      "execution_count": null,
      "id": "7e479daa-74db-469d-8f39-9e7aaf10adc2",
      "metadata": {
        "id": "7e479daa-74db-469d-8f39-9e7aaf10adc2",
        "outputId": "67cf849a-cbd7-4004-cc0c-ba721a0f122f"
      },
      "outputs": [
        {
          "data": {
            "text/plain": [
              "1.3893258747079764"
            ]
          },
          "execution_count": 21,
          "metadata": {},
          "output_type": "execute_result"
        }
      ],
      "source": [
        "average_deaths_per_1000_accidents = (total_accidents_with_deaths / total_accidents) * 1000\n",
        "\n",
        "average_deaths_per_1000_accidents"
      ]
    },
    {
      "cell_type": "markdown",
      "id": "c74da807-d726-477e-bef5-d00f823670b9",
      "metadata": {
        "id": "c74da807-d726-477e-bef5-d00f823670b9"
      },
      "source": [
        "#7 Proportion of accidents in the data do not have a Cross Street Name"
      ]
    },
    {
      "cell_type": "code",
      "execution_count": null,
      "id": "86d80771-ebfd-4a61-82a4-8cc581b5bcd6",
      "metadata": {
        "id": "86d80771-ebfd-4a61-82a4-8cc581b5bcd6",
        "outputId": "85621a75-5216-4f72-890d-7dc05834aea7"
      },
      "outputs": [
        {
          "data": {
            "text/plain": [
              "37.4350983156158"
            ]
          },
          "execution_count": 22,
          "metadata": {},
          "output_type": "execute_result"
        }
      ],
      "source": [
        "missing_cross_street = df['CROSS STREET NAME'].isnull() | (df['CROSS STREET NAME'] == '')\n",
        "\n",
        "# Calculate the number of such accidents\n",
        "total_missing_cross_street = missing_cross_street.sum()\n",
        "\n",
        "# Calculate the total number of accidents\n",
        "total_accidents = df.shape[0]\n",
        "\n",
        "# Calculate the proportion of accidents without a 'Cross Street Name'\n",
        "proportion_missing_cross_street = (total_missing_cross_street / total_accidents) * 100\n",
        "\n",
        "proportion_missing_cross_street"
      ]
    },
    {
      "cell_type": "markdown",
      "id": "f37c8274-dd2c-4f1f-80ec-b027151c6e35",
      "metadata": {
        "id": "f37c8274-dd2c-4f1f-80ec-b027151c6e35"
      },
      "source": [
        "#8 Combination of vehicles have the most number of accidents"
      ]
    },
    {
      "cell_type": "code",
      "execution_count": null,
      "id": "9e19341f-b262-4279-9392-7fdef135555a",
      "metadata": {
        "id": "9e19341f-b262-4279-9392-7fdef135555a",
        "outputId": "56e981a7-8352-4a39-ed25-0023334f5a7d"
      },
      "outputs": [
        {
          "data": {
            "text/plain": [
              "('Sedan and Sedan', 197944)"
            ]
          },
          "execution_count": 23,
          "metadata": {},
          "output_type": "execute_result"
        }
      ],
      "source": [
        "df['VEHICLE TYPE COMBINATION'] = df['VEHICLE TYPE CODE 1'].fillna('Unknown') + ' and ' + df['VEHICLE TYPE CODE 2'].fillna('Unknown')\n",
        "\n",
        "# Count the frequency of each vehicle type combination\n",
        "vehicle_combination_counts = df['VEHICLE TYPE COMBINATION'].value_counts()\n",
        "\n",
        "# Identify the most common combination\n",
        "most_common_combination = vehicle_combination_counts.idxmax()\n",
        "most_common_combination_count = vehicle_combination_counts.max()\n",
        "\n",
        "most_common_combination, most_common_combination_count"
      ]
    },
    {
      "cell_type": "markdown",
      "id": "b5c0f664-8747-4d0f-aeaa-a3247b34a5e9",
      "metadata": {
        "id": "b5c0f664-8747-4d0f-aeaa-a3247b34a5e9"
      },
      "source": [
        "#9 Among crashes where the contributing factor (CONTRIBUTING FACTOR VEHICLE 1) was alcohol involvement, what proportion resulted in a fatality?"
      ]
    },
    {
      "cell_type": "code",
      "execution_count": null,
      "id": "fb9961cf-fe6e-4b33-a270-35548c6334eb",
      "metadata": {
        "id": "fb9961cf-fe6e-4b33-a270-35548c6334eb",
        "outputId": "11874b56-dceb-47c8-940d-5695f4786692"
      },
      "outputs": [
        {
          "data": {
            "text/plain": [
              "0.46638345031400075"
            ]
          },
          "execution_count": 25,
          "metadata": {},
          "output_type": "execute_result"
        }
      ],
      "source": [
        "# Filter for alcohol-related crashes\n",
        "alcohol_related = df[df['CONTRIBUTING FACTOR VEHICLE 1'] == 'Alcohol Involvement'].copy()\n",
        "\n",
        "# Identify fatal crashes (assuming 'NUMBER OF PERSONS KILLED' is the column to use)\n",
        "# Ensure no missing values in the fatalities column, assuming missing as 0\n",
        "alcohol_related['NUMBER OF PERSONS KILLED'] = alcohol_related['NUMBER OF PERSONS KILLED'].fillna(0)\n",
        "\n",
        "# Filter for crashes with at least one fatality\n",
        "fatal_crashes = alcohol_related[alcohol_related['NUMBER OF PERSONS KILLED'] > 0]\n",
        "\n",
        "# Calculate the proportion\n",
        "proportion_fatal = (len(fatal_crashes) / len(alcohol_related)) * 100\n",
        "\n",
        "proportion_fatal"
      ]
    },
    {
      "cell_type": "markdown",
      "id": "ca35c5b8-e99a-4690-b310-a9d487361548",
      "metadata": {
        "id": "ca35c5b8-e99a-4690-b310-a9d487361548"
      },
      "source": [
        "#10 Proportion of crashes occur during the evening rush hour, defined as starting at 4 PM, and before 7 PM"
      ]
    },
    {
      "cell_type": "code",
      "execution_count": null,
      "id": "3ea10367-2d54-4738-a41f-b7e2a4278ca8",
      "metadata": {
        "id": "3ea10367-2d54-4738-a41f-b7e2a4278ca8",
        "outputId": "cb7c248c-da1c-4ac0-919b-1d66952ba6e8"
      },
      "outputs": [
        {
          "data": {
            "text/plain": [
              "20.514010935243242"
            ]
          },
          "execution_count": 26,
          "metadata": {},
          "output_type": "execute_result"
        }
      ],
      "source": [
        "# Filter for crashes between 4 PM and 7 PM\n",
        "evening_rush_hour_crashes = df[(df['CRASH DATE_CRASH TIME'].dt.hour >= 16) & (df['CRASH DATE_CRASH TIME'].dt.hour < 19)]\n",
        "\n",
        "# Calculate the total number of crashes\n",
        "total_crashes = len(df)\n",
        "\n",
        "# Calculate the proportion of evening rush hour crashes\n",
        "proportion_evening_rush_hour = (len(evening_rush_hour_crashes) / total_crashes) * 100\n",
        "\n",
        "proportion_evening_rush_hour"
      ]
    },
    {
      "cell_type": "markdown",
      "id": "080c0864-6401-46b5-9f5a-a354caff1a07",
      "metadata": {
        "id": "080c0864-6401-46b5-9f5a-a354caff1a07"
      },
      "source": [
        "#11 crashes involving motorcycles, what proportion resulted in injuries but no fatalities"
      ]
    },
    {
      "cell_type": "code",
      "execution_count": null,
      "id": "ef6acef7-e6f2-423c-8646-c0dae346e0b8",
      "metadata": {
        "id": "ef6acef7-e6f2-423c-8646-c0dae346e0b8",
        "outputId": "2e8ee91d-e4ca-44bb-a4ad-d5f4d6c2efa0"
      },
      "outputs": [
        {
          "data": {
            "text/plain": [
              "50.04565018912221"
            ]
          },
          "execution_count": 27,
          "metadata": {},
          "output_type": "execute_result"
        }
      ],
      "source": [
        "# Filter for motorcycle crashes\n",
        "motorcycle_crashes = df[(df['VEHICLE TYPE CODE 1'].str.contains(\"MOTORCYCLE\", na=False)) |\n",
        "                        (df['VEHICLE TYPE CODE 2'].str.contains(\"MOTORCYCLE\", na=False))]\n",
        "\n",
        "# Further filter for crashes with injuries and no fatalities\n",
        "injuries_no_fatalities = motorcycle_crashes[(motorcycle_crashes['NUMBER OF PERSONS INJURED'] > 0) &\n",
        "                                            (motorcycle_crashes['NUMBER OF PERSONS KILLED'] == 0)]\n",
        "\n",
        "# Calculate the proportion\n",
        "proportion = (len(injuries_no_fatalities) / len(motorcycle_crashes)) * 100\n",
        "\n",
        "proportion"
      ]
    },
    {
      "cell_type": "code",
      "execution_count": null,
      "id": "0a3f701f-1798-46cd-9c4a-d922a7cb9388",
      "metadata": {
        "id": "0a3f701f-1798-46cd-9c4a-d922a7cb9388",
        "outputId": "079442fb-fa6c-480d-fc8e-4e3849321d0a"
      },
      "outputs": [
        {
          "data": {
            "text/plain": [
              "19108"
            ]
          },
          "execution_count": 28,
          "metadata": {},
          "output_type": "execute_result"
        }
      ],
      "source": [
        "# Filter for crashes involving bicycles\n",
        "bicycle_crashes = df[(df['VEHICLE TYPE CODE 1'].str.contains(\"BICYCLE\", na=False)) |\n",
        "                     (df['VEHICLE TYPE CODE 2'].str.contains(\"BICYCLE\", na=False))]\n",
        "\n",
        "# Count the number of bicycle-involved crashes\n",
        "total_bicycle_crashes = len(bicycle_crashes)\n",
        "\n",
        "total_bicycle_crashes"
      ]
    },
    {
      "cell_type": "code",
      "execution_count": null,
      "id": "43ead4d0-edaf-4b1f-96b1-a3d8f605ce39",
      "metadata": {
        "id": "43ead4d0-edaf-4b1f-96b1-a3d8f605ce39"
      },
      "outputs": [],
      "source": []
    }
  ],
  "metadata": {
    "kernelspec": {
      "display_name": "Python [conda env:mggy8413]",
      "language": "python",
      "name": "conda-env-mggy8413-py"
    },
    "language_info": {
      "codemirror_mode": {
        "name": "ipython",
        "version": 3
      },
      "file_extension": ".py",
      "mimetype": "text/x-python",
      "name": "python",
      "nbconvert_exporter": "python",
      "pygments_lexer": "ipython3",
      "version": "3.11.8"
    },
    "colab": {
      "provenance": [],
      "include_colab_link": true
    }
  },
  "nbformat": 4,
  "nbformat_minor": 5
}